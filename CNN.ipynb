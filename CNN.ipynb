{
 "cells": [
  {
   "cell_type": "code",
   "execution_count": 2,
   "metadata": {},
   "outputs": [],
   "source": [
    "import torch,torchvision\n",
    "import torch.nn.functional as F\n",
    "import matplotlib.pyplot\n",
    "from torch import nn\n",
    "from torch import optim\n",
    "from torchvision.transforms import ToTensor"
   ]
  },
  {
   "cell_type": "code",
   "execution_count": 1,
   "metadata": {},
   "outputs": [
    {
     "ename": "NameError",
     "evalue": "name 'torchvision' is not defined",
     "output_type": "error",
     "traceback": [
      "\u001b[1;31m---------------------------------------------------------------------------\u001b[0m",
      "\u001b[1;31mNameError\u001b[0m                                 Traceback (most recent call last)",
      "Cell \u001b[1;32mIn[1], line 2\u001b[0m\n\u001b[0;32m      1\u001b[0m \u001b[38;5;66;03m#prepping the tranfromation of images\u001b[39;00m\n\u001b[1;32m----> 2\u001b[0m transformations \u001b[38;5;241m=\u001b[39m \u001b[43mtorchvision\u001b[49m\u001b[38;5;241m.\u001b[39mtransforms\u001b[38;5;241m.\u001b[39mCompose([\n\u001b[0;32m      3\u001b[0m     ToTensor()\n\u001b[0;32m      4\u001b[0m ])\n\u001b[0;32m      6\u001b[0m \u001b[38;5;66;03m#importing the datasets\u001b[39;00m\n\u001b[0;32m      7\u001b[0m train_dataset \u001b[38;5;241m=\u001b[39m torchvision\u001b[38;5;241m.\u001b[39mdatasets\u001b[38;5;241m.\u001b[39mMNIST(\u001b[38;5;124m'\u001b[39m\u001b[38;5;124mmnist_data\u001b[39m\u001b[38;5;124m'\u001b[39m, train \u001b[38;5;241m=\u001b[39m \u001b[38;5;28;01mTrue\u001b[39;00m, download \u001b[38;5;241m=\u001b[39m \u001b[38;5;28;01mTrue\u001b[39;00m, transform \u001b[38;5;241m=\u001b[39m transformations)\n",
      "\u001b[1;31mNameError\u001b[0m: name 'torchvision' is not defined"
     ]
    }
   ],
   "source": [
    "#prepping the tranfromation of images\n",
    "transformations = torchvision.transforms.Compose([\n",
    "    ToTensor()\n",
    "])\n",
    "\n",
    "#importing the datasets\n",
    "train_dataset = torchvision.datasets.MNIST('mnist_data', train = True, download = True, transform = transformations)\n",
    "val_dataset = torchvision.datasets.MNIST('mnist_data', train = False, download = True, transform = transformations)\n",
    "\n",
    "#we need to use a dataloader to load in the datasets - associates labels with dataset images\n",
    "train_dataloader = torch.utils.data.DataLoader(train_dataset, batch_size = 64)\n",
    "val_dataloader = torch.utils.data.DataLoader(val_dataset, batch_size = 64)"
   ]
  }
 ],
 "metadata": {
  "kernelspec": {
   "display_name": "Python 3",
   "language": "python",
   "name": "python3"
  },
  "language_info": {
   "codemirror_mode": {
    "name": "ipython",
    "version": 3
   },
   "file_extension": ".py",
   "mimetype": "text/x-python",
   "name": "python",
   "nbconvert_exporter": "python",
   "pygments_lexer": "ipython3",
   "version": "3.10.1"
  }
 },
 "nbformat": 4,
 "nbformat_minor": 2
}
